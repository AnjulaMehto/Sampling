{
  "nbformat": 4,
  "nbformat_minor": 0,
  "metadata": {
    "colab": {
      "provenance": [],
      "authorship_tag": "ABX9TyM0LRQYP0GrjFz8vOcZPA5k",
      "include_colab_link": true
    },
    "kernelspec": {
      "name": "python3",
      "display_name": "Python 3"
    },
    "language_info": {
      "name": "python"
    }
  },
  "cells": [
    {
      "cell_type": "markdown",
      "metadata": {
        "id": "view-in-github",
        "colab_type": "text"
      },
      "source": [
        "<a href=\"https://colab.research.google.com/github/AnjulaMehto/Sampling/blob/main/Sampling_Example.ipynb\" target=\"_parent\"><img src=\"https://colab.research.google.com/assets/colab-badge.svg\" alt=\"Open In Colab\"/></a>"
      ]
    },
    {
      "cell_type": "markdown",
      "source": [
        "*SAMPLING*"
      ],
      "metadata": {
        "id": "h7BJgAHcAvl8"
      }
    },
    {
      "cell_type": "markdown",
      "source": [
        "# Simple Random Sampling "
      ],
      "metadata": {
        "id": "_tzVsFZYaRpR"
      }
    },
    {
      "cell_type": "code",
      "source": [
        "! git clone https://github.com/AnjulaMehto/Sampling_DataSet.git\n"
      ],
      "metadata": {
        "id": "C6c42HI6al-z"
      },
      "execution_count": null,
      "outputs": []
    },
    {
      "cell_type": "code",
      "source": [
        "import pandas as pd\n",
        "import numpy as np\n",
        "\n",
        "np.random.seed(0)\n",
        "\n",
        "df = pd.read_csv(\"Sampling_DataSet/Creditcard_data.csv\")\n",
        "\n",
        "sample_size = 5\n",
        "\n",
        "random_sample = df.sample(n=sample_size, random_state=0)\n",
        "print(random_sample)\n"
      ],
      "metadata": {
        "colab": {
          "base_uri": "https://localhost:8080/"
        },
        "id": "_7BqruXSa5gc",
        "outputId": "b7d02787-8649-4f7f-ee17-3c15fe75ca6b"
      },
      "execution_count": 2,
      "outputs": [
        {
          "output_type": "stream",
          "name": "stdout",
          "text": [
            "     Time        V1        V2        V3        V4        V5        V6  \\\n",
            "545   409 -0.544922  0.595407  1.813261 -1.344670  0.016864 -0.601398   \n",
            "679   513  1.255258  0.075190  0.225733  0.881766  0.154508  0.631960   \n",
            "400   290 -0.695818  0.581773  2.378180  0.063396  0.329119 -0.449865   \n",
            "14     12 -2.791855 -0.327771  1.641750  1.767473 -0.136588  0.807596   \n",
            "548   410 -1.086133 -0.704548  2.329021 -0.885715  0.617677  0.478894   \n",
            "\n",
            "           V7        V8        V9  ...       V21       V22       V23  \\\n",
            "545  0.660876 -0.058978  0.317033  ... -0.123048 -0.148228 -0.076075   \n",
            "679 -0.385968  0.189493  0.447980  ...  0.088457  0.321206 -0.235167   \n",
            "400  1.269104 -0.758363  0.381712  ... -0.327948 -0.369683 -0.426987   \n",
            "14  -0.422911 -1.907107  0.755713  ...  1.151663  0.222182  1.020586   \n",
            "548 -0.267414  0.354042  0.558999  ...  0.021119  0.213192  0.186858   \n",
            "\n",
            "          V24       V25       V26       V27       V28  Amount  Class  \n",
            "545  0.074036 -0.486633  0.724549  0.104294 -0.055110    0.77      0  \n",
            "679 -1.325033  0.643129 -0.133690  0.053069  0.012484    7.00      0  \n",
            "400  0.420170  0.235207  0.194957 -0.708471 -0.621219   30.50      0  \n",
            "14   0.028317 -0.232746 -0.235557 -0.164778 -0.030154   58.80      0  \n",
            "548 -0.207543 -0.701080  0.737603 -0.093269 -0.085372   39.77      0  \n",
            "\n",
            "[5 rows x 31 columns]\n"
          ]
        }
      ]
    },
    {
      "cell_type": "markdown",
      "source": [
        "# Systematic Sampling"
      ],
      "metadata": {
        "id": "pQeamEreBQzC"
      }
    },
    {
      "cell_type": "code",
      "source": [
        "import pandas as pd\n",
        "import math\n",
        "\n",
        "# Load the dataset \"Creditcard_data\" into a Pandas dataframe\n",
        "df = pd.read_csv(\"Sampling_DataSet/Creditcard_data.csv\")\n",
        "\n",
        "# Calculate the number of rows in the dataset\n",
        "n = len(df)\n",
        "\n",
        "# Set the sampling interval \"k\" as the square root of the number of rows in the dataset\n",
        "k = int(math.sqrt(n))\n",
        "\n",
        "# Select every \"k\" row starting from a random index in the dataset\n",
        "sample = df.iloc[::k]\n",
        "\n",
        "# Print the first few rows of the sample\n",
        "print(sample.head())"
      ],
      "metadata": {
        "colab": {
          "base_uri": "https://localhost:8080/"
        },
        "id": "nrhejxZgBZHO",
        "outputId": "71ecfb8d-c7ec-4838-dfc9-36a49b07a930"
      },
      "execution_count": 3,
      "outputs": [
        {
          "output_type": "stream",
          "name": "stdout",
          "text": [
            "     Time        V1        V2        V3        V4        V5        V6  \\\n",
            "0       0 -1.359807 -0.072781  2.536347  1.378155 -0.338321  0.462388   \n",
            "27     23  1.322707 -0.174041  0.434555  0.576038 -0.836758 -0.831083   \n",
            "54     37  1.295668  0.341483  0.081505  0.566746 -0.110459 -0.766325   \n",
            "81     52  1.147369  0.059035  0.263632  1.211023 -0.044096  0.301067   \n",
            "108    73  1.162281  1.248178 -1.581317  1.475024  1.138357 -1.020373   \n",
            "\n",
            "           V7        V8        V9  ...       V21       V22       V23  \\\n",
            "0    0.239599  0.098698  0.363787  ... -0.018307  0.277838 -0.110474   \n",
            "27  -0.264905 -0.220982 -1.071425  ... -0.284376 -0.323357 -0.037710   \n",
            "54   0.073155 -0.168304  0.071837  ... -0.323607 -0.929781  0.063809   \n",
            "81  -0.132960  0.227885  0.252191  ... -0.087813 -0.110756 -0.097771   \n",
            "108  0.638387 -0.136762 -0.805505  ... -0.124012 -0.227150 -0.199185   \n",
            "\n",
            "          V24       V25       V26       V27       V28  Amount  Class  \n",
            "0    0.066928  0.128539 -0.189115  0.133558 -0.021053  149.62      0  \n",
            "27   0.347151  0.559639 -0.280158  0.042335  0.028822   16.00      0  \n",
            "54  -0.193565  0.287574  0.127881 -0.023731  0.025200    0.99      0  \n",
            "81  -0.323374  0.633279 -0.305328  0.027394 -0.000580    6.67      0  \n",
            "108 -0.289757  0.776244 -0.283950  0.056747  0.084706    1.00      0  \n",
            "\n",
            "[5 rows x 31 columns]\n"
          ]
        }
      ]
    },
    {
      "cell_type": "markdown",
      "source": [
        "# Stratified Sampling"
      ],
      "metadata": {
        "id": "QWCerU0bDx4H"
      }
    }
  ]
}