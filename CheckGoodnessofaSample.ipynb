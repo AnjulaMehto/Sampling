{
  "nbformat": 4,
  "nbformat_minor": 0,
  "metadata": {
    "colab": {
      "provenance": [],
      "toc_visible": true,
      "authorship_tag": "ABX9TyPPv9L9keIXhM5M4L9Wg4Yj",
      "include_colab_link": true
    },
    "kernelspec": {
      "name": "python3",
      "display_name": "Python 3"
    },
    "language_info": {
      "name": "python"
    }
  },
  "cells": [
    {
      "cell_type": "markdown",
      "metadata": {
        "id": "view-in-github",
        "colab_type": "text"
      },
      "source": [
        "<a href=\"https://colab.research.google.com/github/AnjulaMehto/Sampling/blob/main/CheckGoodnessofaSample.ipynb\" target=\"_parent\"><img src=\"https://colab.research.google.com/assets/colab-badge.svg\" alt=\"Open In Colab\"/></a>"
      ]
    },
    {
      "cell_type": "markdown",
      "source": [
        "# Check Goodness of a Sample"
      ],
      "metadata": {
        "id": "5Iq3IGJ0e-OA"
      }
    },
    {
      "cell_type": "code",
      "source": [
        "import numpy as np\n",
        "import scipy.stats as stats\n",
        "\n",
        "def check_goodness_of_sample(sample):\n",
        "    # Calculate central tendency measures\n",
        "    sample_mean = np.mean(sample)\n",
        "    sample_median = np.median(sample)\n",
        "    sample_mode = stats.mode(sample).mode[0]\n",
        "    \n",
        "    # Calculate variability measures\n",
        "    sample_range = np.ptp(sample)\n",
        "    sample_var = np.var(sample)\n",
        "    sample_std = np.std(sample)\n",
        "    \n",
        "    # Calculate skewness and kurtosis\n",
        "    sample_skewness = stats.skew(sample)\n",
        "    sample_kurtosis = stats.kurtosis(sample)\n",
        "    \n",
        "    # Calculate confidence intervals\n",
        "    sample_confidence_interval = stats.t.interval(alpha=0.95, df=len(sample) - 1, scale=sample_std/np.sqrt(len(sample)), loc=sample_mean)\n",
        "    \n",
        "    # Print results\n",
        "    print(\"Sample Mean: \", sample_mean)\n",
        "    print(\"Sample Median: \", sample_median)\n",
        "    print(\"Sample Mode: \", sample_mode)\n",
        "    print(\"Sample Range: \", sample_range)\n",
        "    print(\"Sample Variance: \", sample_var)\n",
        "    print(\"Sample Standard Deviation: \", sample_std)\n",
        "    print(\"Sample Skewness: \", sample_skewness)\n",
        "    print(\"Sample Kurtosis: \", sample_kurtosis)\n",
        "    print(\"Sample Confidence Interval: \", sample_confidence_interval)\n",
        "\n",
        "# Example usage\n",
        "sample = [50, 49, 50, 51, 49, 50, 51, 50, 49, 51]\n",
        "check_goodness_of_sample(sample)"
      ],
      "metadata": {
        "colab": {
          "base_uri": "https://localhost:8080/"
        },
        "id": "tOQPkhBRfGSN",
        "outputId": "00021cec-3200-4f55-b3d1-51735be4f9e0"
      },
      "execution_count": null,
      "outputs": [
        {
          "output_type": "stream",
          "name": "stdout",
          "text": [
            "Sample Mean:  50.0\n",
            "Sample Median:  50.0\n",
            "Sample Mode:  50\n",
            "Sample Range:  2\n",
            "Sample Variance:  0.6\n",
            "Sample Standard Deviation:  0.7745966692414834\n",
            "Sample Skewness:  0.0\n",
            "Sample Kurtosis:  -1.3333333333333333\n",
            "Sample Confidence Interval:  (49.44588692333024, 50.55411307666976)\n"
          ]
        }
      ]
    },
    {
      "cell_type": "markdown",
      "source": [
        "# Normality Test to Check the Goodness of a Sample"
      ],
      "metadata": {
        "id": "Ihgh8dCcaCA5"
      }
    },
    {
      "cell_type": "markdown",
      "source": [
        "# Shapiro-Wilk test\n",
        "#####The Shapiro-Wilk test is a commonly used statistical test to check the normality of a data set. It can be performed using the scipy library in Python. \n",
        "##### The null hypothesis of the Shapiro-Wilk test is that the data set is normally distributed.\n",
        "#####The p-value can be used to determine if the null hypothesis can be rejected or not. If the p-value is less than the significance level (usually 0.05), the null hypothesis can be rejected, and it can be concluded that the data set is not normally distributed. If the p-value is greater than the significance level, the null hypothesis cannot be rejected, and it can be concluded that the data set is normally distributed.\n",
        "\n",
        "#### Note that the Shapiro-Wilk test is sensitive to sample size and may not be suitable for large datasets. In such cases, other normality tests such as the Anderson-Darling or Lilliefors tests may be used."
      ],
      "metadata": {
        "id": "9vDAmvnEaO8y"
      }
    },
    {
      "cell_type": "code",
      "source": [
        "import scipy.stats as stats\n",
        "data = [1,2,5,6,2,4,3,3]\n",
        "stat, p = stats.shapiro(data)\n",
        "print('Statistics=%.3f, p=%.3f' % (stat, p))"
      ],
      "metadata": {
        "id": "3aXMk7NdaNnC",
        "outputId": "c484f4f7-bdf4-4da3-c69c-f199f3cf73a0",
        "colab": {
          "base_uri": "https://localhost:8080/"
        }
      },
      "execution_count": 1,
      "outputs": [
        {
          "output_type": "stream",
          "name": "stdout",
          "text": [
            "Statistics=0.959, p=0.801\n"
          ]
        }
      ]
    },
    {
      "cell_type": "markdown",
      "source": [
        "# Anderson-Darling Test\n",
        "\n",
        "#####The Anderson-Darling test is another test for normality, and is considered to be one of the most sensitive tests.\n",
        "##### It is a more powerful test than the Shapiro-Wilk test, and can detect deviations from normality in the tails of the distribution. The test statistic of the Anderson-Darling test is based on the weighted differences between the observed cumulative distribution function and the expected cumulative distribution function.\n",
        "#####The Anderson-Darling test in python can be implemented using the scipy.stats library. "
      ],
      "metadata": {
        "id": "vNLTcJiyb3Ml"
      }
    },
    {
      "cell_type": "code",
      "source": [
        "import numpy as np\n",
        "from scipy.stats import anderson\n",
        "\n",
        "data = [1,2,5,6,2,4,3,3]\n",
        "result = anderson(data)\n",
        "print(\"Anderson-Darling test statistic: \", result.statistic)\n",
        "\n",
        "for i in range(len(result.critical_values)):\n",
        "    sl, cv = result.significance_level[i], result.critical_values[i]\n",
        "    if result.statistic < result.critical_values[i]:\n",
        "        print(\"Sample looks normal with significance level: \", sl)\n",
        "    else:\n",
        "        print(\"Sample does not look normal with significance level: \", sl)"
      ],
      "metadata": {
        "id": "kMNJVUardxxu",
        "outputId": "55c39151-8d3f-4bec-eb46-9a7fce44c6eb",
        "colab": {
          "base_uri": "https://localhost:8080/"
        }
      },
      "execution_count": 4,
      "outputs": [
        {
          "output_type": "stream",
          "name": "stdout",
          "text": [
            "Anderson-Darling test statistic:  0.22455957924563208\n",
            "Sample looks normal with significance level:  15.0\n",
            "Sample looks normal with significance level:  10.0\n",
            "Sample looks normal with significance level:  5.0\n",
            "Sample looks normal with significance level:  2.5\n",
            "Sample looks normal with significance level:  1.0\n"
          ]
        }
      ]
    }
  ]
}