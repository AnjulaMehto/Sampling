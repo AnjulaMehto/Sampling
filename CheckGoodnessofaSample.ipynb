{
  "nbformat": 4,
  "nbformat_minor": 0,
  "metadata": {
    "colab": {
      "provenance": [],
      "toc_visible": true,
      "authorship_tag": "ABX9TyNDvrV9kWdQq3tEEZEdP40c",
      "include_colab_link": true
    },
    "kernelspec": {
      "name": "python3",
      "display_name": "Python 3"
    },
    "language_info": {
      "name": "python"
    }
  },
  "cells": [
    {
      "cell_type": "markdown",
      "metadata": {
        "id": "view-in-github",
        "colab_type": "text"
      },
      "source": [
        "<a href=\"https://colab.research.google.com/github/AnjulaMehto/Sampling/blob/main/CheckGoodnessofaSample.ipynb\" target=\"_parent\"><img src=\"https://colab.research.google.com/assets/colab-badge.svg\" alt=\"Open In Colab\"/></a>"
      ]
    },
    {
      "cell_type": "markdown",
      "source": [
        "# Check Goodness of a Sample"
      ],
      "metadata": {
        "id": "5Iq3IGJ0e-OA"
      }
    },
    {
      "cell_type": "code",
      "source": [
        "import numpy as np\n",
        "import scipy.stats as stats\n",
        "\n",
        "def check_goodness_of_sample(sample):\n",
        "    # Calculate central tendency measures\n",
        "    sample_mean = np.mean(sample)\n",
        "    sample_median = np.median(sample)\n",
        "    sample_mode = stats.mode(sample).mode[0]\n",
        "    \n",
        "    # Calculate variability measures\n",
        "    sample_range = np.ptp(sample)\n",
        "    sample_var = np.var(sample)\n",
        "    sample_std = np.std(sample)\n",
        "    \n",
        "    # Calculate skewness and kurtosis\n",
        "    sample_skewness = stats.skew(sample)\n",
        "    sample_kurtosis = stats.kurtosis(sample)\n",
        "    \n",
        "    # Calculate confidence intervals\n",
        "    sample_confidence_interval = stats.t.interval(alpha=0.95, df=len(sample) - 1, scale=sample_std/np.sqrt(len(sample)), loc=sample_mean)\n",
        "    \n",
        "    # Print results\n",
        "    print(\"Sample Mean: \", sample_mean)\n",
        "    print(\"Sample Median: \", sample_median)\n",
        "    print(\"Sample Mode: \", sample_mode)\n",
        "    print(\"Sample Range: \", sample_range)\n",
        "    print(\"Sample Variance: \", sample_var)\n",
        "    print(\"Sample Standard Deviation: \", sample_std)\n",
        "    print(\"Sample Skewness: \", sample_skewness)\n",
        "    print(\"Sample Kurtosis: \", sample_kurtosis)\n",
        "    print(\"Sample Confidence Interval: \", sample_confidence_interval)\n",
        "\n",
        "# Example usage\n",
        "sample = [50, 49, 50, 51, 49, 50, 51, 50, 49, 51]\n",
        "check_goodness_of_sample(sample)"
      ],
      "metadata": {
        "colab": {
          "base_uri": "https://localhost:8080/"
        },
        "id": "tOQPkhBRfGSN",
        "outputId": "00021cec-3200-4f55-b3d1-51735be4f9e0"
      },
      "execution_count": 1,
      "outputs": [
        {
          "output_type": "stream",
          "name": "stdout",
          "text": [
            "Sample Mean:  50.0\n",
            "Sample Median:  50.0\n",
            "Sample Mode:  50\n",
            "Sample Range:  2\n",
            "Sample Variance:  0.6\n",
            "Sample Standard Deviation:  0.7745966692414834\n",
            "Sample Skewness:  0.0\n",
            "Sample Kurtosis:  -1.3333333333333333\n",
            "Sample Confidence Interval:  (49.44588692333024, 50.55411307666976)\n"
          ]
        }
      ]
    }
  ]
}